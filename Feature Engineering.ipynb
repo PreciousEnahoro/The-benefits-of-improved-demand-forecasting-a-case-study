{
 "cells": [
  {
   "cell_type": "markdown",
   "metadata": {},
   "source": [
    "# Importing Dataset and Packages"
   ]
  },
  {
   "cell_type": "code",
   "execution_count": 1,
   "metadata": {},
   "outputs": [],
   "source": [
    "from utils import *"
   ]
  },
  {
   "cell_type": "code",
   "execution_count": 2,
   "metadata": {},
   "outputs": [],
   "source": [
    "# Importing datasets\n",
    "train_trend = pd.read_csv('train_trend.csv')\n",
    "test_trend = pd.read_csv('test_trend.csv')\n",
    "weather = pd.read_csv('weather.csv') "
   ]
  },
  {
   "cell_type": "code",
   "execution_count": 3,
   "metadata": {},
   "outputs": [],
   "source": [
    "#Changing date to date_time object\n",
    "train_trend.date = pd.to_datetime(train_trend.date)\n",
    "test_trend.date = pd.to_datetime(test_trend.date)\n",
    "weather.date = pd.to_datetime(weather.date)"
   ]
  },
  {
   "cell_type": "code",
   "execution_count": 4,
   "metadata": {},
   "outputs": [],
   "source": [
    "#Combining dataset for proper feature engineering\n",
    "combined_dataset = pd.concat([train_trend, test_trend])"
   ]
  },
  {
   "cell_type": "markdown",
   "metadata": {},
   "source": [
    "# Adding exogenous variables/ features"
   ]
  },
  {
   "cell_type": "markdown",
   "metadata": {},
   "source": [
    "Exogenous variables are relevant features that help to understand the observed time series better and produce the most accurate and robust forecasts possible (Arunraj, Ahrens & Fernandes, 2016; Brownlee, 2016; Singh, 2019). \n",
    "\n",
    "Based on the data, I chose to implement the following features/ exogenous variables, going by the sources highlighted above.\n",
    "1. Weather - Average daily temperature in Fahrenheit and average amount of daily rainfall (in inches) recorded at the stores that were used in the data. I believe these are the most relevant variables out of the other variables in the dataset. The other variables were things like codesum, depart, sealevel etc.\n",
    "2. Binary variable representing whether the day is a US holiday or not. This can be modified as need be for other countries' holidays. \n",
    "3. Date-time features e.g. day of week, day of the month, month in the year, whether the day is a weekend or not (binary variable)\n",
    "4. Lagged values - showing the units at t-1, t-2, t-3 etc. I chose to make lagged values up to 30 days before because of the significant correlations shown in the autocorrelation plot below. Also, I did not want too many data entries to be removed because the test set is only 2 years, but removing one month of the data out of 24 months would not be very significant.\n",
    "5. Rolling mean, min and max - using the pre-determined lag above, these features would be getting the average, minimum and maximum values from the window of data from the previous 30 days."
   ]
  },
  {
   "cell_type": "markdown",
   "metadata": {},
   "source": [
    "## Weather"
   ]
  },
  {
   "cell_type": "code",
   "execution_count": 5,
   "metadata": {},
   "outputs": [
    {
     "name": "stdout",
     "output_type": "stream",
     "text": [
      "<class 'pandas.core.frame.DataFrame'>\n",
      "RangeIndex: 20517 entries, 0 to 20516\n",
      "Data columns (total 3 columns):\n",
      "date           20517 non-null datetime64[ns]\n",
      "tavg           20517 non-null object\n",
      "preciptotal    20517 non-null object\n",
      "dtypes: datetime64[ns](1), object(2)\n",
      "memory usage: 481.0+ KB\n",
      "None\n",
      "\n",
      " Summary Statistics \n",
      "\n",
      "                       date   tavg preciptotal\n",
      "count                 20517  20517       20517\n",
      "unique                 1035    112         285\n",
      "top     2013-02-09 00:00:00      M        0.00\n",
      "freq                     20   1469       11909\n",
      "first   2012-01-01 00:00:00    NaN         NaN\n",
      "last    2014-10-31 00:00:00    NaN         NaN\n"
     ]
    }
   ],
   "source": [
    "#Selecting the relevant variables\n",
    "weather = weather[['date','tavg','preciptotal']]\n",
    "\n",
    "#Observing Dataset Structure\n",
    "observe_data_structure(weather)"
   ]
  },
  {
   "cell_type": "code",
   "execution_count": 6,
   "metadata": {},
   "outputs": [],
   "source": [
    "warnings.filterwarnings(\"ignore\")\n",
    "\n",
    "#M is missing data; T is for trace, meaning there was less than 0.01 inch of rain\n",
    "\n",
    "#Adjusting for trace\n",
    "for i in range(len(weather.tavg)):\n",
    "     if weather.preciptotal[i] =='  T':\n",
    "        weather.preciptotal[i] = 0.005      \n",
    "\n",
    "#Making the average temperature and preciptotal variables numeric and making missing data 0\n",
    "weather.tavg = pd.to_numeric(weather.tavg, errors='coerce')\n",
    "weather.preciptotal = pd.to_numeric(weather.preciptotal, errors='coerce')\n",
    "\n",
    "#Taking the average of average temperature and preciptotal variables across the dataset\n",
    "consolidated_weather = weather.groupby('date').mean().reset_index()\n",
    "\n",
    "#Dropping Christmas day data inline with demand data\n",
    "consolidated_weather = consolidated_weather.drop([359,723]).reset_index()\n",
    "consolidated_weather= consolidated_weather.drop(columns = ['index'])\n",
    "\n",
    "#Adding weather to dataset\n",
    "\n",
    "combined_dataset['tavg'] = consolidated_weather.tavg\n",
    "combined_dataset['preciptotal'] = consolidated_weather.preciptotal"
   ]
  },
  {
   "cell_type": "code",
   "execution_count": 7,
   "metadata": {},
   "outputs": [],
   "source": [
    "#Creating list of US Holidays\n",
    "usholidays = [date2 for date2,name in \\\n",
    "              sorted(holidays.US(years=[2012,2013,2014]).items())]\n",
    "usholidays = [e for e in usholidays if e not in \\\n",
    "              {datetime.date(2012, 1, 2), datetime.date(2012, 11, 12)}]"
   ]
  },
  {
   "cell_type": "code",
   "execution_count": 8,
   "metadata": {},
   "outputs": [
    {
     "data": {
      "image/png": "[encoded data removed]",
      "text/plain": [
       "<Figure size 864x576 with 2 Axes>"
      ]
     },
     "metadata": {
      "needs_background": "light"
     },
     "output_type": "display_data"
    }
   ],
   "source": [
    "#ACF and PACF plots to determine appropriate lag for feature engineering\n",
    "acf_pacf_plotter(train_trend.units)"
   ]
  },
  {
   "cell_type": "markdown",
   "metadata": {},
   "source": [
    "## Feature Engineering for other variables"
   ]
  },
  {
   "cell_type": "code",
   "execution_count": 13,
   "metadata": {},
   "outputs": [],
   "source": [
    "warnings.filterwarnings(\"ignore\")\n",
    "    \n",
    "def feature_engineering(file):\n",
    "    \n",
    "    \"\"\"This function does feature engineering on the dataset.\n",
    "    \"\"\" \n",
    "    \n",
    "    warnings.filterwarnings(\"ignore\")\n",
    "    \n",
    "    #Rolling mean, minimum and maximum - 30 days window, given the lag determined by autocorrelation plot\n",
    "    #The .shift() function prevents data leakage\n",
    "    \n",
    "    file['rolling_mean'] = file.units.rolling(window=30).mean().shift()\n",
    "    file['rolling_min'] = file.units.rolling(window=30).min().shift()\n",
    "    file['rolling_max'] = file.units.rolling(window=30).max().shift()\n",
    "    \n",
    "    #Lagged values - 30 days, given the lag determined by autocorrelation plot\n",
    "    for i in range(1, 31):\n",
    "        file[\"lag_{}\".format(i)] = file.units.shift(i)\n",
    "        \n",
    "    #Date-time features\n",
    "    file['day_of_week'] = file.date.dt.weekday + 1\n",
    "    file['month'] = file.date.dt.month \n",
    "    file['day_of_month'] = file.date.dt.day\n",
    "    file['is_weekend'] = 0 \n",
    "    file['holiday'] = 0\n",
    "    \n",
    "    #Dropping NA values after creating the rolling mean and lagged values\n",
    "    file = file.dropna()\n",
    "    \n",
    "    for i in range(len(file)):\n",
    "        \n",
    "        #Making rolling mean an integer\n",
    "        file.rolling_mean.iloc[i] = round(file.rolling_mean.iloc[i])\n",
    "        \n",
    "        #Binary variable representing if the day is a holiday or not\n",
    "        if file.date.iloc[i] in usholidays:\n",
    "            file.holiday.iloc[i] = 1\n",
    "            \n",
    "        #Binary variable representing if the day is a weekend or not\n",
    "        if file.day_of_week.iloc[i] == 6 or file.day_of_week.iloc[i] == 7:\n",
    "            file.is_weekend.iloc[i] = 1\n",
    "          \n",
    "    return file\n",
    "\n",
    "combined_dataset = feature_engineering(combined_dataset)"
   ]
  },
  {
   "cell_type": "code",
   "execution_count": 10,
   "metadata": {},
   "outputs": [],
   "source": [
    "#One-hot encoding day of week, month and day of month variables\n",
    "combined_dataset = pd.get_dummies(combined_dataset, \\\n",
    "                                  columns=['day_of_week','month','day_of_month'])"
   ]
  },
  {
   "cell_type": "code",
   "execution_count": 11,
   "metadata": {},
   "outputs": [],
   "source": [
    "#Splitting into train and test sets\n",
    "\n",
    "train_trend = combined_dataset.loc\\\n",
    "[combined_dataset.date <= datetime.datetime(2013, 12, 31)]\n",
    "\n",
    "test_trend = combined_dataset.loc\\\n",
    "[combined_dataset.date > datetime.datetime(2013, 12, 31)]"
   ]
  },
  {
   "cell_type": "code",
   "execution_count": 12,
   "metadata": {},
   "outputs": [],
   "source": [
    "# Saving datasets to .csv files for the forecasting notebook\n",
    "train_trend = train_trend.to_csv(r'train_trend.csv', index = None, header=True)\n",
    "test_trend = test_trend.to_csv(r'test_trend.csv', index = None, header=True)"
   ]
  }
 ],
 "metadata": {
  "kernelspec": {
   "display_name": "Python 3",
   "language": "python",
   "name": "python3"
  },
  "language_info": {
   "codemirror_mode": {
    "name": "ipython",
    "version": 3
   },
   "file_extension": ".py",
   "mimetype": "text/x-python",
   "name": "python",
   "nbconvert_exporter": "python",
   "pygments_lexer": "ipython3",
   "version": "3.7.4"
  }
 },
 "nbformat": 4,
 "nbformat_minor": 2
}
